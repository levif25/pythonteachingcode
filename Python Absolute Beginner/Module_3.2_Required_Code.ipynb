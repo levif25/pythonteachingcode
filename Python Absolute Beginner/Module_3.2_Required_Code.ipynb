{
 "cells": [
  {
   "attachments": {},
   "cell_type": "markdown",
   "metadata": {
    "collapsed": true,
    "jupyter": {
     "outputs_hidden": true
    }
   },
   "source": [
    "#  Module 3 Required Coding Activity  \n",
    "Introduction to Python Unit 1 \n",
    "\n",
    "This is an activity based on code similar to the Jupyter Notebook **`Practice_MOD03_1-4_IntroPy.ipynb`** and **`Practice_MOD03_1-5_IntroPy.ipynb`** which you may have completed as practice.\n",
    "\n",
    ">This program requires the use of **`if, elif, else`**, and casting between strings and numbers. The program should use the various code syntax covered in module 3.  \n",
    "> \n",
    ">The program must result in print output using numeric input similar to that shown in the sample below.\n",
    ">You must include your full name in the input prompt. See sample input below for more detail.\n",
    "\n",
    "## Program: Cheese Order Function   \n",
    "- define function with max, min, price, and order_amount parameters\n",
    "- set default values for maximum and minimum order parameters  \n",
    "- set default value for price parameter\n",
    "- cast order_amount and other arguments to numbers  \n",
    "- check order_amount and give message checking against  \n",
    "  - over maximum\n",
    "  - under minimum\n",
    "- else within maximum and minimum give message with calculated price \n",
    "- call your function using order weight input from user\n",
    "\n",
    "\n",
    "Sample input and output:\n",
    "```\n",
    "[YOUR FULL NAME GOES HERE], enter cheese order weight (numeric value): 113\n",
    "113.0 is more than currently available stock\n",
    "```\n",
    "\n",
    "```\n",
    "[YOUR FULL NAME GOES HERE], enter cheese order weight (numeric value): .15\n",
    "0.15 is below minimum order amount\n",
    "```  \n",
    "\n",
    "```\n",
    "[YOUR FULL NAME GOES HERE], enter cheese order weight (numeric value): 2\n",
    "2.0 costs $15.98\n",
    "```  "
   ]
  },
  {
   "cell_type": "code",
   "execution_count": 4,
   "metadata": {},
   "outputs": [
    {
     "name": "stdin",
     "output_type": "stream",
     "text": [
      "Enter cheese order weight (numeric value):  125\n"
     ]
    },
    {
     "name": "stdout",
     "output_type": "stream",
     "text": [
      "YOUR FULL NAME GOES HERE, ﻿enter cheese order weight (numeric value): 125.0\n",
      "125.0 is more than currently available stock\n"
     ]
    }
   ],
   "source": [
    "# [ ] create fucntion, call and test \n",
    "def cheese_order(max_order=100.0, min_order=0.5, price_per_unit=7.99, order_amount=None):\n",
    "\n",
    "    try:\n",
    "        max_order = float(max_order)\n",
    "        min_order = float(min_order)\n",
    "        price_per_unit = float(price_per_unit)\n",
    "        order_amount = float(order_amount)\n",
    "    except ValueError:\n",
    "        print(\"Invalid input. Please enter numeric values.\")\n",
    "        return\n",
    "\n",
    "    \n",
    "    user_name = \"YOUR FULL NAME GOES HERE\"\n",
    "\n",
    "    \n",
    "    if order_amount > max_order:\n",
    "        print(f\"{user_name}, ﻿enter cheese order weight (numeric value): {order_amount}\")\n",
    "        print(f\"{order_amount} is more than currently available stock\")\n",
    "    elif order_amount < min_order:\n",
    "        print(f\"{user_name}, ﻿enter cheese order weight (numeric value): {order_amount}\")\n",
    "        print(f\"{order_amount} is below minimum order amount\")\n",
    "    else:\n",
    "        total_price = order_amount * price_per_unit\n",
    "        print(f\"{user_name}, ﻿enter cheese order weight (numeric value): {order_amount}\")\n",
    "        print(f\"{order_amount} costs ${total_price:.2f}\")\n",
    "        \n",
    "order_weight_input = input(\"Enter cheese order weight (numeric value): \")\n",
    "cheese_order(order_amount=order_weight_input)"
   ]
  },
  {
   "cell_type": "markdown",
   "metadata": {},
   "source": [
    "Submit this by creating a python file (.py) and submitting it in D2L. Be sure to test that it works."
   ]
  }
 ],
 "metadata": {
  "kernelspec": {
   "display_name": "Python [conda env:base] *",
   "language": "python",
   "name": "conda-base-py"
  },
  "language_info": {
   "codemirror_mode": {
    "name": "ipython",
    "version": 3
   },
   "file_extension": ".py",
   "mimetype": "text/x-python",
   "name": "python",
   "nbconvert_exporter": "python",
   "pygments_lexer": "ipython3",
   "version": "3.12.7"
  }
 },
 "nbformat": 4,
 "nbformat_minor": 4
}
