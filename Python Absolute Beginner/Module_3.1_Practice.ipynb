{
 "cells": [
  {
   "cell_type": "markdown",
   "metadata": {},
   "source": [
    "# Module 3 Practice 1\n",
    "## Conditionals \n",
    "<font size=\"5\" color=\"#00A0B2\"  face=\"verdana\"> <B>Student will be able to</B></font>  \n",
    "- **control code flow with `if`... `else` conditional logic**  \n",
    "  - using Boolean string methods (`.isupper(), .isalpha(), .startswith()...`)  \n",
    "  - using comparision (`>, <, >=, <=, ==, !=`)  \n",
    "  - using Strings in comparisons  \n",
    "\n",
    "## `if else`\n"
   ]
  },
  {
   "cell_type": "code",
   "execution_count": 2,
   "metadata": {},
   "outputs": [
    {
     "name": "stdin",
     "output_type": "stream",
     "text": [
      "Input your age (use only whole numbers):  23\n"
     ]
    },
    {
     "name": "stdout",
     "output_type": "stream",
     "text": [
      "Age's first type is:  <class 'int'>\n",
      "Age's second type is:  <class 'int'>\n",
      "In ten years you will be 33.\n"
     ]
    }
   ],
   "source": [
    "# [ ] input a variable: age as digit and cast to int\n",
    "# if age greater than or equal to 12 then print message on age in 10 years \n",
    "# or else print message \"It is good to be\" age\n",
    "age = int(input(\"Input your age (use only whole numbers): \"))\n",
    "print(\"Age's first type is: \",type(age))\n",
    "age = int(age)\n",
    "print(\"Age's second type is: \",type(age))\n",
    "\n",
    "if age >= 12:\n",
    "    print(\"In ten years you will be \"+str(age+10)+\".\")\n",
    "else:\n",
    "    print(\"It is good to be \"+str(age)+\".\")\n",
    "\n",
    "\n",
    "\n"
   ]
  },
  {
   "cell_type": "code",
   "execution_count": 14,
   "metadata": {},
   "outputs": [
    {
     "name": "stdin",
     "output_type": "stream",
     "text": [
      "Enter a number:  20\n"
     ]
    },
    {
     "name": "stdout",
     "output_type": "stream",
     "text": [
      "The number 20 is greater than 100: False\n"
     ]
    }
   ],
   "source": [
    "# Input a number\n",
    "user_input = input(\"Enter a number: \")\n",
    "\n",
    "# Check if the input is a digit string\n",
    "if user_input.isdigit():\n",
    "    # If it's a digit string, cast it to an integer\n",
    "    number = int(user_input)\n",
    "    \n",
    "    # Check if the number is greater than 100\n",
    "    is_greater_than_100 = number > 100\n",
    "    \n",
    "    # Print the result\n",
    "    print(f\"The number {number} is greater than 100: {is_greater_than_100}\")\n",
    "else:\n",
    "    # If the input is not a digit string, display an error message\n",
    "    print(\"Only integers are accepted.\")\n"
   ]
  },
  {
   "cell_type": "markdown",
   "metadata": {},
   "source": [
    "### Guessing a letter A-Z  \n",
    "**check_guess()** takes 2 string arguments: **letter and guess** (both expect single alphabetical character)   \n",
    "    - if guess is not an alpha character print invalid and return False\n",
    "    - test and print if guess is \"high\" or \"low\" and return False\n",
    "    - test and print if guess is \"correct\" and return True"
   ]
  },
  {
   "cell_type": "code",
   "execution_count": 16,
   "metadata": {},
   "outputs": [
    {
     "name": "stdout",
     "output_type": "stream",
     "text": [
      "your guess is low\n",
      "your guess is high\n",
      "correct\n",
      "invalid\n"
     ]
    },
    {
     "data": {
      "text/plain": [
       "False"
      ]
     },
     "execution_count": 16,
     "metadata": {},
     "output_type": "execute_result"
    }
   ],
   "source": [
    "# [ ] create check_guess()\n",
    "# call with test\n",
    "def check_guess(letter, guess):\n",
    "    if guess.isalpha() == False:\n",
    "        print('invalid')\n",
    "        return False\n",
    "    elif guess > letter:\n",
    "        print('your guess is high')\n",
    "        return False\n",
    "    elif guess < letter:\n",
    "        print('your guess is low')\n",
    "        return False\n",
    "    else:\n",
    "        print('correct')\n",
    "        return True\n",
    "    \n",
    "check_guess('c', 'b')\n",
    "check_guess('c', 'd')\n",
    "check_guess('c', 'c')\n",
    "check_guess('c', '1')\n",
    "\n"
   ]
  },
  {
   "cell_type": "code",
   "execution_count": 18,
   "metadata": {},
   "outputs": [
    {
     "name": "stdin",
     "output_type": "stream",
     "text": [
      "enter a letter:  L\n",
      "input a guess:  Levi\n"
     ]
    },
    {
     "name": "stdout",
     "output_type": "stream",
     "text": [
      "your guess is high\n"
     ]
    },
    {
     "data": {
      "text/plain": [
       "False"
      ]
     },
     "execution_count": 18,
     "metadata": {},
     "output_type": "execute_result"
    }
   ],
   "source": [
    "# [ ] call check_guess with user input\n",
    "letter = input(\"enter a letter: \")\n",
    "guess = input(\"input a guess: \")\n",
    "\n",
    "check_guess(letter, guess)\n",
    "\n"
   ]
  },
  {
   "cell_type": "markdown",
   "metadata": {},
   "source": [
    "### Letter Guess\n",
    "**create letter_guess() function that gives user 3 guesses**\n",
    "- takes a letter character argument for the answer letter\n",
    "- gets user input for letter guess  \n",
    "- calls check_guess() with answer and guess\n",
    "- End letter_guess if \n",
    "    - check_guess() equals True, return True  \n",
    "    - or after 3 failed attempts, return False"
   ]
  },
  {
   "cell_type": "code",
   "execution_count": 22,
   "metadata": {},
   "outputs": [
    {
     "name": "stdin",
     "output_type": "stream",
     "text": [
      "enter a letter guess:  D\n"
     ]
    },
    {
     "name": "stdout",
     "output_type": "stream",
     "text": [
      "your guess is low\n",
      "You have 2 guess attempts. Try again!\n"
     ]
    },
    {
     "name": "stdin",
     "output_type": "stream",
     "text": [
      "enter a letter guess:  N\n"
     ]
    },
    {
     "name": "stdout",
     "output_type": "stream",
     "text": [
      "your guess is low\n",
      "You have 1 guess attempts. Try again!\n"
     ]
    },
    {
     "name": "stdin",
     "output_type": "stream",
     "text": [
      "enter a letter guess:  Z\n"
     ]
    },
    {
     "name": "stdout",
     "output_type": "stream",
     "text": [
      "your guess is low\n",
      "You have 0 guess attempts. You fail.\n"
     ]
    },
    {
     "data": {
      "text/plain": [
       "False"
      ]
     },
     "execution_count": 22,
     "metadata": {},
     "output_type": "execute_result"
    }
   ],
   "source": [
    "# [ ] create letter_guess() function, call the function to test\n",
    "def letter_guess(letter):\n",
    "    \n",
    "    guess = input(\"enter a letter guess: \")\n",
    "    if check_guess(letter, guess) == True:\n",
    "        return True\n",
    "    else:\n",
    "        print(\"You have 2 guess attempts. Try again!\")\n",
    "        pass\n",
    "    \n",
    "    guess = input(\"enter a letter guess: \")\n",
    "    if check_guess(letter, guess) == True:\n",
    "        return True\n",
    "    else:\n",
    "        print(\"You have 1 guess attempts. Try again!\")\n",
    "        pass\n",
    "    \n",
    "    guess = input(\"enter a letter guess: \")\n",
    "    if check_guess(letter, guess) == True:\n",
    "        return True\n",
    "    else:\n",
    "        print(\"You have 0 guess attempts. You fail.\")\n",
    "        return False\n",
    "\n",
    "letter = 'c'\n",
    "letter_guess(letter)\n",
    "\n"
   ]
  },
  {
   "cell_type": "markdown",
   "metadata": {},
   "source": [
    "### Pet Conversation\n",
    "**ask the user for a sentence about a pet and then reply**  \n",
    "- get user input in variable: about_pet\n",
    "- using a series of **if** statements respond with appropriate conversation\n",
    "  - check if \"dog\" is in the string about_pet (sample reply \"Ah, a dog\")\n",
    "  - check if \"cat\" is in the string about_pet\n",
    "  - check if 1 or more animal is in string about_pet\n",
    "- no need for **else**'s\n",
    "- finish with thanking for the story"
   ]
  },
  {
   "cell_type": "code",
   "execution_count": 28,
   "metadata": {},
   "outputs": [
    {
     "name": "stdin",
     "output_type": "stream",
     "text": [
      "Tell me about your pet:  fish\n"
     ]
    },
    {
     "name": "stdout",
     "output_type": "stream",
     "text": [
      "Ah, a fish!\n"
     ]
    }
   ],
   "source": [
    "# [ ] complete pet conversation\n",
    "about_pet = input(\"Tell me about your pet: \")\n",
    "\n",
    "if \"dog\" in about_pet:\n",
    "    print(\"Ah, a dog!\")\n",
    "if \"cat\" in about_pet:\n",
    "    print(\"Ah, a cat!\")\n",
    "if \"fish\" in about_pet:\n",
    "    print(\"Ah, a fish!\")\n"
   ]
  },
  {
   "cell_type": "markdown",
   "metadata": {},
   "source": [
    "# Module 3 Practice 2\n",
    "## conditionals, type, and mathematics extended   \n",
    "&nbsp;\n",
    "<font size=\"5\" color=\"#00A0B2\"  face=\"verdana\"> <B>Student will be able to</B></font>  \n",
    "- code more than two choices using **`elif`** \n",
    "- gather numeric input using type casting  \n",
    "- perform subtraction, multiplication and division operations in code  &nbsp;  \n"
   ]
  },
  {
   "cell_type": "markdown",
   "metadata": {},
   "source": [
    "# &nbsp;  \n",
    "<font size=\"6\" color=\"#B24C00\"  face=\"verdana\"> <B>Tasks</B></font>"
   ]
  },
  {
   "cell_type": "markdown",
   "metadata": {},
   "source": [
    "### Rainbow colors\n",
    "ask for input of a favorite rainbow color first letter: ROYGBIV  \n",
    "\n",
    "Using `if`, `elif`, and `else`:  \n",
    "- print the color matching the letter  \n",
    "    - R = Red  \n",
    "    - O = Orange  \n",
    "    - Y = Yellow  \n",
    "    - G = Green\n",
    "    - B = Blue\n",
    "    - I = Indigo\n",
    "    - V = Violet\n",
    "    - else print \"no match\"\n"
   ]
  },
  {
   "cell_type": "code",
   "execution_count": 42,
   "metadata": {},
   "outputs": [],
   "source": [
    "# [ ] complete rainbow colors\n",
    "def rainbow_color(first_letter):\n",
    "    if first_letter == 'R':\n",
    "        return 'Red'\n",
    "    elif first_letter == 'O':\n",
    "        return 'Orange'\n",
    "    elif first_letter == 'Y':\n",
    "        return 'Yellow'\n",
    "    elif first_letter == 'G':\n",
    "        return 'Green'\n",
    "    elif first_letter == 'B':\n",
    "        return 'Blue'\n",
    "    elif first_letter == 'I':\n",
    "        return 'Indigo'\n",
    "    elif first_letter == 'V':\n",
    "        return 'Violet'\n",
    "    else:\n",
    "        return 'No match'\n",
    "\n",
    "\n"
   ]
  },
  {
   "cell_type": "code",
   "execution_count": 46,
   "metadata": {},
   "outputs": [
    {
     "name": "stdin",
     "output_type": "stream",
     "text": [
      "enter rainbow color first letter (ROYGBIV):  G\n"
     ]
    },
    {
     "name": "stdout",
     "output_type": "stream",
     "text": [
      "G = Green\n",
      "V = Violet\n",
      "I = Indigo\n",
      "B = Blue\n",
      "G = Green\n",
      "Y = Yellow\n",
      "O = Orange\n",
      "R = Red\n",
      "no match\n"
     ]
    }
   ],
   "source": [
    "# [ ] make the code above into a function rainbow_color() that has a string parameter, \n",
    "# get input and call the function and return the matching color as a string or \"no match\" message.\n",
    "# Call the function and print the return string.\n",
    "def rainbow_color(color):\n",
    "    if color == 'R':\n",
    "        return \"R = Red\"\n",
    "    elif color == 'O':\n",
    "        return \"O = Orange\"\n",
    "    elif color == 'Y':\n",
    "        return \"Y = Yellow\"\n",
    "    elif color == 'G':\n",
    "        return \"G = Green\"\n",
    "    elif color == 'B':\n",
    "        return \"B = Blue\"\n",
    "    elif color == 'I':\n",
    "        return \"I = Indigo\"\n",
    "    elif color == 'V':\n",
    "        return \"V = Violet\"\n",
    "    else:\n",
    "        return \"no match\"\n",
    "        \n",
    "color = input(\"enter rainbow color first letter (ROYGBIV): \")\n",
    "print(rainbow_color(color))\n",
    "\n",
    "color = 'V'\n",
    "print(rainbow_color(color))\n",
    "color = 'I'\n",
    "print(rainbow_color(color))\n",
    "color = 'B'\n",
    "print(rainbow_color(color))\n",
    "color = 'G'\n",
    "print(rainbow_color(color))\n",
    "color = 'Y'\n",
    "print(rainbow_color(color))\n",
    "color = 'O'\n",
    "print(rainbow_color(color))\n",
    "color = 'R'\n",
    "print(rainbow_color(color))\n",
    "color = 'Z'\n",
    "print(rainbow_color(color))\n"
   ]
  },
  {
   "cell_type": "markdown",
   "metadata": {},
   "source": [
    "# &nbsp;  \n",
    "**Create function age_20() that adds or subtracts 20 from your age for a return value based on current age** (use `if`) \n",
    "- call the funtion with user input and then use the return value in a sentence  \n",
    "example `age_20(25)` returns **5**: \n",
    "> \"5 years old, 20 years difference from now\""
   ]
  },
  {
   "cell_type": "code",
   "execution_count": 2,
   "metadata": {},
   "outputs": [
    {
     "name": "stdout",
     "output_type": "stream",
     "text": [
      "4 years old, 20 years difference from now\n",
      "39 years old, 20 years difference from now\n"
     ]
    }
   ],
   "source": [
    "# [ ] complete age_20()\n",
    "def age_20(age):\n",
    "    if age > 20:\n",
    "        return str(age - 20) + \" years old, 20 years difference from now\"\n",
    "    else:\n",
    "        return str(age + 20) + \" years old, 20 years difference from now\"\n",
    "\n",
    "print(age_20(24))\n",
    "print(age_20(19))\n"
   ]
  },
  {
   "cell_type": "markdown",
   "metadata": {},
   "source": [
    "**create a function rainbow_or_age that takes a string argument**\n",
    "- if argument is a digit return the value of calling age_20() with the str value cast as **`int`** \n",
    "- if argument is an alphabetical character return the value of calling rainbow_color() with the str\n",
    "- if neither return FALSE"
   ]
  },
  {
   "cell_type": "code",
   "execution_count": 6,
   "metadata": {},
   "outputs": [
    {
     "name": "stdin",
     "output_type": "stream",
     "text": [
      "Enter a digit or an alphabetical character:  R\n"
     ]
    },
    {
     "name": "stdout",
     "output_type": "stream",
     "text": [
      "Result: Rainbow Color\n"
     ]
    }
   ],
   "source": [
    "# [ ]  create rainbow_or_age()\n",
    "def age_20():\n",
    "    return 20\n",
    "\n",
    "def rainbow_color():\n",
    "    return \"Rainbow Color\"\n",
    "\n",
    "def rainbow_or_age(argument):\n",
    "    if argument.isdigit():\n",
    "        return age_20()\n",
    "    elif argument.isalpha():\n",
    "        return rainbow_color()\n",
    "    else:\n",
    "        return False\n",
    "\n",
    "# Example usage:\n",
    "input_str = input(\"Enter a digit or an alphabetical character: \")\n",
    "result = rainbow_or_age(input_str)\n",
    "\n",
    "if result:\n",
    "    print(\"Result:\", result)\n",
    "else:\n",
    "    print(\"Result: FALSE\")"
   ]
  },
  {
   "cell_type": "code",
   "execution_count": 8,
   "metadata": {},
   "outputs": [
    {
     "name": "stdin",
     "output_type": "stream",
     "text": [
      "enter a number:  10\n",
      "enter a number:  15\n"
     ]
    },
    {
     "name": "stdout",
     "output_type": "stream",
     "text": [
      "25\n"
     ]
    }
   ],
   "source": [
    "# [ ]  add 2 numbers from input using a cast to integer and display the answer \n",
    "num1 = int(input(\"enter a number: \"))\n",
    "num2 = int(input(\"enter a number: \"))\n",
    "print(num1 + num2)\n"
   ]
  },
  {
   "cell_type": "code",
   "execution_count": 10,
   "metadata": {},
   "outputs": [
    {
     "name": "stdin",
     "output_type": "stream",
     "text": [
      "enter a number:  12\n",
      "enter a number:  24\n"
     ]
    },
    {
     "name": "stdout",
     "output_type": "stream",
     "text": [
      "the answer is 288\n"
     ]
    }
   ],
   "source": [
    "# [ ] Multiply 2 numbers from input using cast and save the answer as part of a string \"the answer is...\"\n",
    "# display the string using print\n",
    "num1 = int(input(\"enter a number: \"))\n",
    "num2 = int(input(\"enter a number: \"))\n",
    "print(\"the answer is\", num1 * num2)\n"
   ]
  },
  {
   "cell_type": "code",
   "execution_count": 12,
   "metadata": {},
   "outputs": [
    {
     "name": "stdin",
     "output_type": "stream",
     "text": [
      "enter a number:  20\n",
      "enter a number:  53\n"
     ]
    },
    {
     "name": "stdout",
     "output_type": "stream",
     "text": [
      "36.5\n"
     ]
    }
   ],
   "source": [
    "# [ ] get input of 2 numbers and display the average: (num1 + num2) divided by 2\n",
    "num1 = int(input(\"enter a number: \"))\n",
    "num2 = int(input(\"enter a number: \"))\n",
    "print((num1 + num2) / 2)\n"
   ]
  },
  {
   "cell_type": "code",
   "execution_count": 14,
   "metadata": {},
   "outputs": [
    {
     "name": "stdin",
     "output_type": "stream",
     "text": [
      "enter a number:  100\n",
      "enter a number:  42\n"
     ]
    },
    {
     "name": "stdout",
     "output_type": "stream",
     "text": [
      "58\n"
     ]
    }
   ],
   "source": [
    "# [ ] get input of 2 numbers and subtract the largest from the smallest (use an if statement to see which is larger)\n",
    "# show the answer\n",
    "num1 = int(input(\"enter a number: \"))\n",
    "num2 = int(input(\"enter a number: \"))\n",
    "if num1 > num2:\n",
    "    print(num1 - num2)\n",
    "elif num1 <= num2:\n",
    "    print(num2 - num1)  \n"
   ]
  },
  {
   "cell_type": "code",
   "execution_count": 16,
   "metadata": {},
   "outputs": [
    {
     "name": "stdin",
     "output_type": "stream",
     "text": [
      "enter a number:  12\n",
      "enter a number:  23\n"
     ]
    },
    {
     "name": "stdout",
     "output_type": "stream",
     "text": [
      "1\n"
     ]
    }
   ],
   "source": [
    "# [ ] Divide a larger number by a smaller number and print the integer part of the result\n",
    "# don't divide by zero! if a zero is input make the result zero\n",
    "# [ ] cast the answer to an integer to cut off the decimals and print the result\n",
    "num1 = int(input(\"enter a number: \"))\n",
    "num2 = int(input(\"enter a number: \"))\n",
    "if num1 > num2:\n",
    "    print(int(num1 / num2))\n",
    "elif num1 <= num2:\n",
    "    print(int(num2 / num1))\n"
   ]
  },
  {
   "cell_type": "markdown",
   "metadata": {
    "collapsed": true,
    "jupyter": {
     "outputs_hidden": true
    }
   },
   "source": [
    "[Terms of use](http://go.microsoft.com/fwlink/?LinkID=206977) &nbsp; [Privacy & cookies](https://go.microsoft.com/fwlink/?LinkId=521839) &nbsp; © 2017 Microsoft"
   ]
  }
 ],
 "metadata": {
  "anaconda-cloud": {},
  "kernelspec": {
   "display_name": "Python [conda env:base] *",
   "language": "python",
   "name": "conda-base-py"
  },
  "language_info": {
   "codemirror_mode": {
    "name": "ipython",
    "version": 3
   },
   "file_extension": ".py",
   "mimetype": "text/x-python",
   "name": "python",
   "nbconvert_exporter": "python",
   "pygments_lexer": "ipython3",
   "version": "3.12.7"
  }
 },
 "nbformat": 4,
 "nbformat_minor": 4
}
